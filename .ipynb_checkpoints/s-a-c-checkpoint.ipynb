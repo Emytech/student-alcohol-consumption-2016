{
 "cells": [
  {
   "cell_type": "markdown",
   "metadata": {},
   "source": [
    "# Student Alcohol Consumption\n",
    "#### Social, gender and study data from secondary school students\n",
    "\n",
    "\n",
    "\n",
    "### Content:\n",
    "Attributes for both student-mat.csv (Math course) and student-por.csv (Portuguese language course) datasets:\n",
    "\n",
    "1. school - student's school (binary: 'GP' - Gabriel Pereira or 'MS' - Mousinho da Silveira)\n",
    "2. sex - student's sex (binary: 'F' - female or 'M' - male)\n",
    "3. age - student's age (numeric: from 15 to 22)\n",
    "4. address - student's home address type (binary: 'U' - urban or 'R' - rural)\n",
    "5. famsize - family size (binary: 'LE3' - less or equal to 3 or 'GT3' - greater than 3)\n",
    "6. Pstatus - parent's cohabitation status (binary: 'T' - living together or 'A' - apart)\n",
    "7. Medu - mother's education (numeric: 0 - none, 1 - primary education (4th grade), 2 – 5th to 9th grade, 3 – secondary education or 4 – higher education)\n",
    "8. Fedu - father's education (numeric: 0 - none, 1 - primary education (4th grade), 2 – 5th to 9th grade, 3 – secondary education or 4 – higher education)\n",
    "9. Mjob - mother's job (nominal: 'teacher', 'health' care related, civil 'services' (e.g. administrative or police), 'at_home' or 'other')\n",
    "0. Fjob - father's job (nominal: 'teacher', 'health' care related, civil 'services' (e.g. administrative or police), 'at_home' or 'other')\n",
    "1. reason - reason to choose this school (nominal: close to 'home', school 'reputation', 'course' preference or 'other')\n",
    "2. guardian - student's guardian (nominal: 'mother', 'father' or 'other')\n",
    "3. traveltime - home to school travel time (numeric: 1 - 1 hour)\n",
    "4. studytime - weekly study time (numeric: 1 - 10 hours)\n",
    "5. failures - number of past class failures (numeric: n if 1<=n<3, else 4)\n",
    "6. schoolsup - extra educational support (binary: yes or no)\n",
    "7. famsup - family educational support (binary: yes or no)\n",
    "8. paid - extra paid classes within the course subject (Math or Portuguese) (binary: yes or no)\n",
    "9. activities - extra-curricular activities (binary: yes or no)\n",
    "0. nursery - attended nursery school (binary: yes or no)\n",
    "1. higher - wants to take higher education (binary: yes or no)\n",
    "2. internet - Internet access at home (binary: yes or no)\n",
    "3. romantic - with a romantic relationship (binary: yes or no)\n",
    "4. famrel - quality of family relationships (numeric: from 1 - very bad to 5 - excellent)\n",
    "5. freetime - free time after school (numeric: from 1 - very low to 5 - very high)\n",
    "6. goout - going out with friends (numeric: from 1 - very low to 5 - very high)\n",
    "7. Dalc - workday alcohol consumption (numeric: from 1 - very low to 5 - very high)\n",
    "8. Walc - weekend alcohol consumption (numeric: from 1 - very low to 5 - very high)\n",
    "9. health - current health status (numeric: from 1 - very bad to 5 - very good)\n",
    "0. absences - number of school absences (numeric: from 0 to 93)\n",
    "\n",
    "### These grades are related with the course subject, Math or Portuguese:\n",
    "\n",
    "**G1** - *first period grade (numeric: from 0 to 20)*\n",
    "\n",
    "**G2** - *second period grade (numeric: from 0 to 20)*\n",
    "\n",
    "**G3** - *final grade (numeric: from 0 to 20, output target)*"
   ]
  },
  {
   "cell_type": "code",
   "execution_count": null,
   "metadata": {},
   "outputs": [],
   "source": []
  }
 ],
 "metadata": {
  "kernelspec": {
   "display_name": "Python 3",
   "language": "python",
   "name": "python3"
  },
  "language_info": {
   "codemirror_mode": {
    "name": "ipython",
    "version": 3
   },
   "file_extension": ".py",
   "mimetype": "text/x-python",
   "name": "python",
   "nbconvert_exporter": "python",
   "pygments_lexer": "ipython3",
   "version": "3.8.5"
  }
 },
 "nbformat": 4,
 "nbformat_minor": 4
}
